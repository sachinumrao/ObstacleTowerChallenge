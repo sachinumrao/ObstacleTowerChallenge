{
 "cells": [
  {
   "cell_type": "code",
   "execution_count": null,
   "metadata": {},
   "outputs": [],
   "source": [
    "import numpy as np\n",
    "from numpy.random import seed\n",
    "from tensorflow import set_random_seed"
   ]
  },
  {
   "cell_type": "code",
   "execution_count": null,
   "metadata": {},
   "outputs": [],
   "source": [
    "# set seed\n",
    "seed(0)\n",
    "set_random_seed(1)"
   ]
  },
  {
   "cell_type": "code",
   "execution_count": null,
   "metadata": {},
   "outputs": [],
   "source": [
    "# Import dependencies of Mobilenet CNN model\n",
    "from keras.applications import mobilenet\n",
    "from keras import Model\n",
    "from PIL import Image\n",
    "import time"
   ]
  },
  {
   "cell_type": "code",
   "execution_count": null,
   "metadata": {},
   "outputs": [],
   "source": [
    "# Import dependencies for LSTM network\n",
    "from keras.models import Sequential\n",
    "from keras.layers import Dense, Activation, BatchNormalization, LSTM, Flatten\n",
    "from keras import metrics    "
   ]
  },
  {
   "cell_type": "code",
   "execution_count": null,
   "metadata": {},
   "outputs": [],
   "source": [
    "# Build the LSTM model\n",
    "# finalize output layer and compile\n",
    "def lstm_model(time_steps, inp_feat,op_size):\n",
    "    model = Sequential()\n",
    "    model.add(LSTM(100, input_shape=(time_steps, input_feats), return_sequences=True,))\n",
    "    model.add(Flatten())\n",
    "    model.add(Dense(50,activation='tanh'))\n",
    "    model.add(BatchNormalization())\n",
    "    model.add(Dense(op_size,activation = None))\n",
    "    model.compile()\n",
    "    return model, model"
   ]
  },
  {
   "cell_type": "code",
   "execution_count": null,
   "metadata": {},
   "outputs": [],
   "source": [
    "# Reshape image from environment size to cnn model size [224,244,3]\n",
    "def LSTM_raw_input(cnn_model, x):\n",
    "    n = 224\n",
    "    img = Image.fromarray(x, 'RGB')\n",
    "    inp1 = img.resize((n, n))\n",
    "    inp1 = np.reshape(inp1, (1,n,n,3))\n",
    "    inp1 = mobilenet.preprocess_input(inp1)\n",
    "    op1 = cnn_model.predict(inp1)\n",
    "    op1 = op1[0,0]\n",
    "    return op1"
   ]
  },
  {
   "cell_type": "code",
   "execution_count": null,
   "metadata": {},
   "outputs": [],
   "source": [
    "# Append raw_input into time buffer ready for LSTM model\n",
    "def LSTM_timesteps(buffer, op1):\n",
    "    buffer = buffer[1:]\n",
    "    buffer = np.vstack((buffer,op1))\n",
    "    return buffer"
   ]
  },
  {
   "cell_type": "code",
   "execution_count": null,
   "metadata": {},
   "outputs": [],
   "source": [
    "def target_vector_generator():\n",
    "    pass"
   ]
  },
  {
   "cell_type": "code",
   "execution_count": null,
   "metadata": {},
   "outputs": [],
   "source": [
    "def epsilon_greedy():\n",
    "    pass"
   ]
  },
  {
   "cell_type": "code",
   "execution_count": null,
   "metadata": {},
   "outputs": [],
   "source": [
    "def run_episode(hyperparams):\n",
    "    pass"
   ]
  },
  {
   "cell_type": "code",
   "execution_count": null,
   "metadata": {},
   "outputs": [],
   "source": [
    "# Setup CNN mode for feature map generation\n",
    "mobilenet_model = mobilenet.MobileNet(weights='imagenet')\n",
    "model_op = mobilenet_model.get_layer(\"reshape_1\").output\n",
    "cnn_model = Model(inputs=model.input, outputs=model_op)"
   ]
  },
  {
   "cell_type": "code",
   "execution_count": null,
   "metadata": {},
   "outputs": [],
   "source": [
    "# Declaration of global variables\n",
    "time_steps = 10\n",
    "inp_feats = 1024\n",
    "op_size = None\n",
    "num_episodes = 1000\n",
    "tau = 10 # time period to refresh the weights of target model\n",
    "buffer = np.random.rand(1, time_steps, inp_feats)"
   ]
  },
  {
   "cell_type": "code",
   "execution_count": null,
   "metadata": {},
   "outputs": [],
   "source": [
    "# Dictionary of hyperparameters\n",
    "hyperparams = {}"
   ]
  },
  {
   "cell_type": "code",
   "execution_count": null,
   "metadata": {},
   "outputs": [],
   "source": [
    "# Store return of reward ROR\n",
    "ROR = []"
   ]
  },
  {
   "cell_type": "code",
   "execution_count": null,
   "metadata": {},
   "outputs": [],
   "source": [
    "# Run the experiment\n",
    "for _ in range(num_episodes):\n",
    "    sum_reward = run_episode(hyperparams)\n",
    "    ROR.append(sum_reward)"
   ]
  },
  {
   "cell_type": "code",
   "execution_count": null,
   "metadata": {},
   "outputs": [],
   "source": [
    "\n"
   ]
  },
  {
   "cell_type": "code",
   "execution_count": null,
   "metadata": {},
   "outputs": [],
   "source": []
  },
  {
   "cell_type": "code",
   "execution_count": null,
   "metadata": {},
   "outputs": [],
   "source": []
  }
 ],
 "metadata": {
  "kernelspec": {
   "display_name": "Python 3",
   "language": "python",
   "name": "python3"
  },
  "language_info": {
   "codemirror_mode": {
    "name": "ipython",
    "version": 3
   },
   "file_extension": ".py",
   "mimetype": "text/x-python",
   "name": "python",
   "nbconvert_exporter": "python",
   "pygments_lexer": "ipython3",
   "version": "3.6.8"
  }
 },
 "nbformat": 4,
 "nbformat_minor": 2
}
